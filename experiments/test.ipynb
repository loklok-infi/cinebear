{
 "cells": [
  {
   "cell_type": "code",
   "execution_count": 1,
   "id": "3d732df7-689d-462d-aee3-f232ea528138",
   "metadata": {},
   "outputs": [],
   "source": [
    "import requests"
   ]
  },
  {
   "cell_type": "code",
   "execution_count": 2,
   "id": "c1693235-7193-4cf9-bfca-934d115afac2",
   "metadata": {},
   "outputs": [],
   "source": [
    "j = {\n",
    "    \"text\":\"hello, who are you\"\n",
    "}"
   ]
  },
  {
   "cell_type": "code",
   "execution_count": 3,
   "id": "f9ec2ca2-34fe-4a7e-94af-1f543bec6063",
   "metadata": {},
   "outputs": [],
   "source": [
    "re = requests.post(\"http://127.0.0.1:8861/chat_test\", json=j)"
   ]
  },
  {
   "cell_type": "code",
   "execution_count": 4,
   "id": "1776a75a-4216-402d-8625-90d90af34413",
   "metadata": {},
   "outputs": [
    {
     "data": {
      "text/plain": [
       "'Hello! I am an AI digital assistant here to help you with any questions or tasks you may have. How may I assist you today?'"
      ]
     },
     "execution_count": 4,
     "metadata": {},
     "output_type": "execute_result"
    }
   ],
   "source": [
    "re.json()"
   ]
  },
  {
   "cell_type": "code",
   "execution_count": null,
   "id": "0ac5627b-f3fc-485e-a23b-e05b117c13fe",
   "metadata": {},
   "outputs": [],
   "source": []
  }
 ],
 "metadata": {
  "kernelspec": {
   "display_name": "Python 3 (ipykernel)",
   "language": "python",
   "name": "python3"
  },
  "language_info": {
   "codemirror_mode": {
    "name": "ipython",
    "version": 3
   },
   "file_extension": ".py",
   "mimetype": "text/x-python",
   "name": "python",
   "nbconvert_exporter": "python",
   "pygments_lexer": "ipython3",
   "version": "3.10.13"
  }
 },
 "nbformat": 4,
 "nbformat_minor": 5
}
